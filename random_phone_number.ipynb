{
  "nbformat": 4,
  "nbformat_minor": 0,
  "metadata": {
    "colab": {
      "provenance": []
    },
    "kernelspec": {
      "name": "python3",
      "display_name": "Python 3"
    },
    "language_info": {
      "name": "python"
    }
  },
  "cells": [
    {
      "cell_type": "code",
      "source": [
        "def phonenumber(n:int):\n",
        "  \"\"\"\n",
        "  n: Number of phone numbers you want to create\n",
        "  \"\"\"\n",
        "  import random\n",
        "  first_part = \"555\"\n",
        "  \n",
        "  for i in range(n):\n",
        "    def secondpart():\n",
        "      hundreds_digit = random.randint(1,3)\n",
        "      tens_digit = random.randint(1,3)\n",
        "      units_digit = random.randint(1,3)\n",
        "      return str(100*hundreds_digit + 10*tens_digit + units_digit)\n",
        "    \n",
        "    def lastpart():\n",
        "      return ''.join(map(str, random.sample(range(10),4)))\n",
        "\n",
        "    second_part = secondpart()\n",
        "    last_part = lastpart()\n",
        "    print('{}-{}-{}'.format(first_part,second_part,last_part))\n",
        "\n",
        "phonenumber(50)"
      ],
      "metadata": {
        "colab": {
          "base_uri": "https://localhost:8080/"
        },
        "id": "Pd69t41dEOP7",
        "outputId": "95cac415-dd7c-41a5-f622-e101c8ee1ecb"
      },
      "execution_count": null,
      "outputs": [
        {
          "output_type": "stream",
          "name": "stdout",
          "text": [
            "555-333-2485\n",
            "555-221-2654\n",
            "555-221-4219\n",
            "555-113-8124\n",
            "555-323-1304\n",
            "555-132-2359\n",
            "555-133-8109\n",
            "555-121-2958\n",
            "555-311-9512\n",
            "555-223-6845\n",
            "555-132-6075\n",
            "555-213-8975\n",
            "555-323-2064\n",
            "555-122-1478\n",
            "555-231-1930\n",
            "555-132-7285\n",
            "555-213-6934\n",
            "555-121-1608\n",
            "555-211-0394\n",
            "555-111-4652\n",
            "555-331-8423\n",
            "555-231-5091\n",
            "555-113-7402\n",
            "555-112-0869\n",
            "555-131-8503\n",
            "555-211-9154\n",
            "555-231-1783\n",
            "555-133-7528\n",
            "555-211-3718\n",
            "555-232-3792\n",
            "555-331-6745\n",
            "555-213-0657\n",
            "555-222-9035\n",
            "555-232-2609\n",
            "555-211-9370\n",
            "555-311-0295\n",
            "555-332-6049\n",
            "555-332-6285\n",
            "555-322-7541\n",
            "555-311-7089\n",
            "555-131-7513\n",
            "555-121-2897\n",
            "555-331-0543\n",
            "555-121-5421\n",
            "555-112-9352\n",
            "555-233-1795\n",
            "555-212-5948\n",
            "555-231-0694\n",
            "555-233-4293\n",
            "555-113-7938\n"
          ]
        }
      ]
    }
  ]
}